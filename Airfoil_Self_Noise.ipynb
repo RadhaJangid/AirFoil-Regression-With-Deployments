{
 "cells": [
  {
   "cell_type": "markdown",
   "metadata": {},
   "source": [
    "## Importing Basic Libraries"
   ]
  },
  {
   "cell_type": "code",
   "execution_count": 2,
   "metadata": {},
   "outputs": [],
   "source": [
    "import pandas as pd \n",
    "import numpy as np\n",
    "import seaborn as sns\n",
    "import matplotlib.pyplot as plt\n",
    "%matplotlib inline"
   ]
  },
  {
   "cell_type": "markdown",
   "metadata": {},
   "source": [
    "# Data Set Information:\n",
    "\n",
    "The NASA data set comprises different size NASA 0012 airfoils at\n",
    "various wind tunnel speeds and angles of attack. The span of the airfoil \n",
    "and the observer position were the same in all of the experiments."
   ]
  },
  {
   "cell_type": "markdown",
   "metadata": {},
   "source": [
    "## Import the Dataset"
   ]
  },
  {
   "cell_type": "code",
   "execution_count": 3,
   "metadata": {},
   "outputs": [],
   "source": [
    "df=pd.read_csv('airfoil_self_noise.dat',sep='\\t',header=None)"
   ]
  },
  {
   "cell_type": "code",
   "execution_count": 4,
   "metadata": {},
   "outputs": [
    {
     "data": {
      "text/html": [
       "<div>\n",
       "<style scoped>\n",
       "    .dataframe tbody tr th:only-of-type {\n",
       "        vertical-align: middle;\n",
       "    }\n",
       "\n",
       "    .dataframe tbody tr th {\n",
       "        vertical-align: top;\n",
       "    }\n",
       "\n",
       "    .dataframe thead th {\n",
       "        text-align: right;\n",
       "    }\n",
       "</style>\n",
       "<table border=\"1\" class=\"dataframe\">\n",
       "  <thead>\n",
       "    <tr style=\"text-align: right;\">\n",
       "      <th></th>\n",
       "      <th>0</th>\n",
       "      <th>1</th>\n",
       "      <th>2</th>\n",
       "      <th>3</th>\n",
       "      <th>4</th>\n",
       "      <th>5</th>\n",
       "    </tr>\n",
       "  </thead>\n",
       "  <tbody>\n",
       "    <tr>\n",
       "      <th>0</th>\n",
       "      <td>800</td>\n",
       "      <td>0.0</td>\n",
       "      <td>0.3048</td>\n",
       "      <td>71.3</td>\n",
       "      <td>0.002663</td>\n",
       "      <td>126.201</td>\n",
       "    </tr>\n",
       "    <tr>\n",
       "      <th>1</th>\n",
       "      <td>1000</td>\n",
       "      <td>0.0</td>\n",
       "      <td>0.3048</td>\n",
       "      <td>71.3</td>\n",
       "      <td>0.002663</td>\n",
       "      <td>125.201</td>\n",
       "    </tr>\n",
       "    <tr>\n",
       "      <th>2</th>\n",
       "      <td>1250</td>\n",
       "      <td>0.0</td>\n",
       "      <td>0.3048</td>\n",
       "      <td>71.3</td>\n",
       "      <td>0.002663</td>\n",
       "      <td>125.951</td>\n",
       "    </tr>\n",
       "    <tr>\n",
       "      <th>3</th>\n",
       "      <td>1600</td>\n",
       "      <td>0.0</td>\n",
       "      <td>0.3048</td>\n",
       "      <td>71.3</td>\n",
       "      <td>0.002663</td>\n",
       "      <td>127.591</td>\n",
       "    </tr>\n",
       "    <tr>\n",
       "      <th>4</th>\n",
       "      <td>2000</td>\n",
       "      <td>0.0</td>\n",
       "      <td>0.3048</td>\n",
       "      <td>71.3</td>\n",
       "      <td>0.002663</td>\n",
       "      <td>127.461</td>\n",
       "    </tr>\n",
       "    <tr>\n",
       "      <th>...</th>\n",
       "      <td>...</td>\n",
       "      <td>...</td>\n",
       "      <td>...</td>\n",
       "      <td>...</td>\n",
       "      <td>...</td>\n",
       "      <td>...</td>\n",
       "    </tr>\n",
       "    <tr>\n",
       "      <th>1498</th>\n",
       "      <td>2500</td>\n",
       "      <td>15.6</td>\n",
       "      <td>0.1016</td>\n",
       "      <td>39.6</td>\n",
       "      <td>0.052849</td>\n",
       "      <td>110.264</td>\n",
       "    </tr>\n",
       "    <tr>\n",
       "      <th>1499</th>\n",
       "      <td>3150</td>\n",
       "      <td>15.6</td>\n",
       "      <td>0.1016</td>\n",
       "      <td>39.6</td>\n",
       "      <td>0.052849</td>\n",
       "      <td>109.254</td>\n",
       "    </tr>\n",
       "    <tr>\n",
       "      <th>1500</th>\n",
       "      <td>4000</td>\n",
       "      <td>15.6</td>\n",
       "      <td>0.1016</td>\n",
       "      <td>39.6</td>\n",
       "      <td>0.052849</td>\n",
       "      <td>106.604</td>\n",
       "    </tr>\n",
       "    <tr>\n",
       "      <th>1501</th>\n",
       "      <td>5000</td>\n",
       "      <td>15.6</td>\n",
       "      <td>0.1016</td>\n",
       "      <td>39.6</td>\n",
       "      <td>0.052849</td>\n",
       "      <td>106.224</td>\n",
       "    </tr>\n",
       "    <tr>\n",
       "      <th>1502</th>\n",
       "      <td>6300</td>\n",
       "      <td>15.6</td>\n",
       "      <td>0.1016</td>\n",
       "      <td>39.6</td>\n",
       "      <td>0.052849</td>\n",
       "      <td>104.204</td>\n",
       "    </tr>\n",
       "  </tbody>\n",
       "</table>\n",
       "<p>1503 rows × 6 columns</p>\n",
       "</div>"
      ],
      "text/plain": [
       "         0     1       2     3         4        5\n",
       "0      800   0.0  0.3048  71.3  0.002663  126.201\n",
       "1     1000   0.0  0.3048  71.3  0.002663  125.201\n",
       "2     1250   0.0  0.3048  71.3  0.002663  125.951\n",
       "3     1600   0.0  0.3048  71.3  0.002663  127.591\n",
       "4     2000   0.0  0.3048  71.3  0.002663  127.461\n",
       "...    ...   ...     ...   ...       ...      ...\n",
       "1498  2500  15.6  0.1016  39.6  0.052849  110.264\n",
       "1499  3150  15.6  0.1016  39.6  0.052849  109.254\n",
       "1500  4000  15.6  0.1016  39.6  0.052849  106.604\n",
       "1501  5000  15.6  0.1016  39.6  0.052849  106.224\n",
       "1502  6300  15.6  0.1016  39.6  0.052849  104.204\n",
       "\n",
       "[1503 rows x 6 columns]"
      ]
     },
     "execution_count": 4,
     "metadata": {},
     "output_type": "execute_result"
    }
   ],
   "source": [
    "df"
   ]
  },
  {
   "cell_type": "code",
   "execution_count": 5,
   "metadata": {},
   "outputs": [],
   "source": [
    "# Add column name\n",
    "df.columns=['Frequency','Angle of attack','Chord length','Free-stream velocity','Suction side','pressure level']"
   ]
  },
  {
   "cell_type": "code",
   "execution_count": 6,
   "metadata": {},
   "outputs": [
    {
     "data": {
      "text/html": [
       "<div>\n",
       "<style scoped>\n",
       "    .dataframe tbody tr th:only-of-type {\n",
       "        vertical-align: middle;\n",
       "    }\n",
       "\n",
       "    .dataframe tbody tr th {\n",
       "        vertical-align: top;\n",
       "    }\n",
       "\n",
       "    .dataframe thead th {\n",
       "        text-align: right;\n",
       "    }\n",
       "</style>\n",
       "<table border=\"1\" class=\"dataframe\">\n",
       "  <thead>\n",
       "    <tr style=\"text-align: right;\">\n",
       "      <th></th>\n",
       "      <th>Frequency</th>\n",
       "      <th>Angle of attack</th>\n",
       "      <th>Chord length</th>\n",
       "      <th>Free-stream velocity</th>\n",
       "      <th>Suction side</th>\n",
       "      <th>pressure level</th>\n",
       "    </tr>\n",
       "  </thead>\n",
       "  <tbody>\n",
       "    <tr>\n",
       "      <th>0</th>\n",
       "      <td>800</td>\n",
       "      <td>0.0</td>\n",
       "      <td>0.3048</td>\n",
       "      <td>71.3</td>\n",
       "      <td>0.002663</td>\n",
       "      <td>126.201</td>\n",
       "    </tr>\n",
       "    <tr>\n",
       "      <th>1</th>\n",
       "      <td>1000</td>\n",
       "      <td>0.0</td>\n",
       "      <td>0.3048</td>\n",
       "      <td>71.3</td>\n",
       "      <td>0.002663</td>\n",
       "      <td>125.201</td>\n",
       "    </tr>\n",
       "    <tr>\n",
       "      <th>2</th>\n",
       "      <td>1250</td>\n",
       "      <td>0.0</td>\n",
       "      <td>0.3048</td>\n",
       "      <td>71.3</td>\n",
       "      <td>0.002663</td>\n",
       "      <td>125.951</td>\n",
       "    </tr>\n",
       "    <tr>\n",
       "      <th>3</th>\n",
       "      <td>1600</td>\n",
       "      <td>0.0</td>\n",
       "      <td>0.3048</td>\n",
       "      <td>71.3</td>\n",
       "      <td>0.002663</td>\n",
       "      <td>127.591</td>\n",
       "    </tr>\n",
       "    <tr>\n",
       "      <th>4</th>\n",
       "      <td>2000</td>\n",
       "      <td>0.0</td>\n",
       "      <td>0.3048</td>\n",
       "      <td>71.3</td>\n",
       "      <td>0.002663</td>\n",
       "      <td>127.461</td>\n",
       "    </tr>\n",
       "  </tbody>\n",
       "</table>\n",
       "</div>"
      ],
      "text/plain": [
       "   Frequency  Angle of attack  Chord length  Free-stream velocity  \\\n",
       "0        800              0.0        0.3048                  71.3   \n",
       "1       1000              0.0        0.3048                  71.3   \n",
       "2       1250              0.0        0.3048                  71.3   \n",
       "3       1600              0.0        0.3048                  71.3   \n",
       "4       2000              0.0        0.3048                  71.3   \n",
       "\n",
       "   Suction side  pressure level  \n",
       "0      0.002663         126.201  \n",
       "1      0.002663         125.201  \n",
       "2      0.002663         125.951  \n",
       "3      0.002663         127.591  \n",
       "4      0.002663         127.461  "
      ]
     },
     "execution_count": 6,
     "metadata": {},
     "output_type": "execute_result"
    }
   ],
   "source": [
    "df.head()"
   ]
  },
  {
   "cell_type": "markdown",
   "metadata": {},
   "source": [
    "## Basic EDA part"
   ]
  },
  {
   "cell_type": "code",
   "execution_count": 7,
   "metadata": {},
   "outputs": [
    {
     "data": {
      "text/plain": [
       "Index(['Frequency', 'Angle of attack', 'Chord length', 'Free-stream velocity',\n",
       "       'Suction side', 'pressure level'],\n",
       "      dtype='object')"
      ]
     },
     "execution_count": 7,
     "metadata": {},
     "output_type": "execute_result"
    }
   ],
   "source": [
    "df.columns"
   ]
  },
  {
   "cell_type": "code",
   "execution_count": 8,
   "metadata": {},
   "outputs": [
    {
     "name": "stdout",
     "output_type": "stream",
     "text": [
      "<class 'pandas.core.frame.DataFrame'>\n",
      "RangeIndex: 1503 entries, 0 to 1502\n",
      "Data columns (total 6 columns):\n",
      " #   Column                Non-Null Count  Dtype  \n",
      "---  ------                --------------  -----  \n",
      " 0   Frequency             1503 non-null   int64  \n",
      " 1   Angle of attack       1503 non-null   float64\n",
      " 2   Chord length          1503 non-null   float64\n",
      " 3   Free-stream velocity  1503 non-null   float64\n",
      " 4   Suction side          1503 non-null   float64\n",
      " 5   pressure level        1503 non-null   float64\n",
      "dtypes: float64(5), int64(1)\n",
      "memory usage: 70.6 KB\n"
     ]
    }
   ],
   "source": [
    "df.info()"
   ]
  },
  {
   "cell_type": "code",
   "execution_count": 9,
   "metadata": {},
   "outputs": [
    {
     "data": {
      "text/plain": [
       "Frequency                 int64\n",
       "Angle of attack         float64\n",
       "Chord length            float64\n",
       "Free-stream velocity    float64\n",
       "Suction side            float64\n",
       "pressure level          float64\n",
       "dtype: object"
      ]
     },
     "execution_count": 9,
     "metadata": {},
     "output_type": "execute_result"
    }
   ],
   "source": [
    "# To check datatypes\n",
    "df.dtypes"
   ]
  },
  {
   "cell_type": "code",
   "execution_count": 10,
   "metadata": {},
   "outputs": [
    {
     "data": {
      "text/plain": [
       "<AxesSubplot:>"
      ]
     },
     "execution_count": 10,
     "metadata": {},
     "output_type": "execute_result"
    },
    {
     "data": {
      "image/png": "[encoded data removed]",
      "text/plain": [
       "<Figure size 432x288 with 1 Axes>"
      ]
     },
     "metadata": {
      "needs_background": "light"
     },
     "output_type": "display_data"
    }
   ],
   "source": [
    "sns.heatmap(df.isnull(),yticklabels=False,cbar=False,cmap='viridis')"
   ]
  },
  {
   "cell_type": "code",
   "execution_count": 11,
   "metadata": {},
   "outputs": [
    {
     "data": {
      "text/html": [
       "<div>\n",
       "<style scoped>\n",
       "    .dataframe tbody tr th:only-of-type {\n",
       "        vertical-align: middle;\n",
       "    }\n",
       "\n",
       "    .dataframe tbody tr th {\n",
       "        vertical-align: top;\n",
       "    }\n",
       "\n",
       "    .dataframe thead th {\n",
       "        text-align: right;\n",
       "    }\n",
       "</style>\n",
       "<table border=\"1\" class=\"dataframe\">\n",
       "  <thead>\n",
       "    <tr style=\"text-align: right;\">\n",
       "      <th></th>\n",
       "      <th>Frequency</th>\n",
       "      <th>Angle of attack</th>\n",
       "      <th>Chord length</th>\n",
       "      <th>Free-stream velocity</th>\n",
       "      <th>Suction side</th>\n",
       "      <th>pressure level</th>\n",
       "    </tr>\n",
       "  </thead>\n",
       "  <tbody>\n",
       "    <tr>\n",
       "      <th>count</th>\n",
       "      <td>1503.000000</td>\n",
       "      <td>1503.000000</td>\n",
       "      <td>1503.000000</td>\n",
       "      <td>1503.000000</td>\n",
       "      <td>1503.000000</td>\n",
       "      <td>1503.000000</td>\n",
       "    </tr>\n",
       "    <tr>\n",
       "      <th>mean</th>\n",
       "      <td>2886.380572</td>\n",
       "      <td>6.782302</td>\n",
       "      <td>0.136548</td>\n",
       "      <td>50.860745</td>\n",
       "      <td>0.011140</td>\n",
       "      <td>124.835943</td>\n",
       "    </tr>\n",
       "    <tr>\n",
       "      <th>std</th>\n",
       "      <td>3152.573137</td>\n",
       "      <td>5.918128</td>\n",
       "      <td>0.093541</td>\n",
       "      <td>15.572784</td>\n",
       "      <td>0.013150</td>\n",
       "      <td>6.898657</td>\n",
       "    </tr>\n",
       "    <tr>\n",
       "      <th>min</th>\n",
       "      <td>200.000000</td>\n",
       "      <td>0.000000</td>\n",
       "      <td>0.025400</td>\n",
       "      <td>31.700000</td>\n",
       "      <td>0.000401</td>\n",
       "      <td>103.380000</td>\n",
       "    </tr>\n",
       "    <tr>\n",
       "      <th>25%</th>\n",
       "      <td>800.000000</td>\n",
       "      <td>2.000000</td>\n",
       "      <td>0.050800</td>\n",
       "      <td>39.600000</td>\n",
       "      <td>0.002535</td>\n",
       "      <td>120.191000</td>\n",
       "    </tr>\n",
       "    <tr>\n",
       "      <th>50%</th>\n",
       "      <td>1600.000000</td>\n",
       "      <td>5.400000</td>\n",
       "      <td>0.101600</td>\n",
       "      <td>39.600000</td>\n",
       "      <td>0.004957</td>\n",
       "      <td>125.721000</td>\n",
       "    </tr>\n",
       "    <tr>\n",
       "      <th>75%</th>\n",
       "      <td>4000.000000</td>\n",
       "      <td>9.900000</td>\n",
       "      <td>0.228600</td>\n",
       "      <td>71.300000</td>\n",
       "      <td>0.015576</td>\n",
       "      <td>129.995500</td>\n",
       "    </tr>\n",
       "    <tr>\n",
       "      <th>max</th>\n",
       "      <td>20000.000000</td>\n",
       "      <td>22.200000</td>\n",
       "      <td>0.304800</td>\n",
       "      <td>71.300000</td>\n",
       "      <td>0.058411</td>\n",
       "      <td>140.987000</td>\n",
       "    </tr>\n",
       "  </tbody>\n",
       "</table>\n",
       "</div>"
      ],
      "text/plain": [
       "          Frequency  Angle of attack  Chord length  Free-stream velocity  \\\n",
       "count   1503.000000      1503.000000   1503.000000           1503.000000   \n",
       "mean    2886.380572         6.782302      0.136548             50.860745   \n",
       "std     3152.573137         5.918128      0.093541             15.572784   \n",
       "min      200.000000         0.000000      0.025400             31.700000   \n",
       "25%      800.000000         2.000000      0.050800             39.600000   \n",
       "50%     1600.000000         5.400000      0.101600             39.600000   \n",
       "75%     4000.000000         9.900000      0.228600             71.300000   \n",
       "max    20000.000000        22.200000      0.304800             71.300000   \n",
       "\n",
       "       Suction side  pressure level  \n",
       "count   1503.000000     1503.000000  \n",
       "mean       0.011140      124.835943  \n",
       "std        0.013150        6.898657  \n",
       "min        0.000401      103.380000  \n",
       "25%        0.002535      120.191000  \n",
       "50%        0.004957      125.721000  \n",
       "75%        0.015576      129.995500  \n",
       "max        0.058411      140.987000  "
      ]
     },
     "execution_count": 11,
     "metadata": {},
     "output_type": "execute_result"
    }
   ],
   "source": [
    "df.describe()"
   ]
  },
  {
   "cell_type": "code",
   "execution_count": 12,
   "metadata": {},
   "outputs": [
    {
     "data": {
      "text/html": [
       "<div>\n",
       "<style scoped>\n",
       "    .dataframe tbody tr th:only-of-type {\n",
       "        vertical-align: middle;\n",
       "    }\n",
       "\n",
       "    .dataframe tbody tr th {\n",
       "        vertical-align: top;\n",
       "    }\n",
       "\n",
       "    .dataframe thead th {\n",
       "        text-align: right;\n",
       "    }\n",
       "</style>\n",
       "<table border=\"1\" class=\"dataframe\">\n",
       "  <thead>\n",
       "    <tr style=\"text-align: right;\">\n",
       "      <th></th>\n",
       "      <th>Frequency</th>\n",
       "      <th>Angle of attack</th>\n",
       "      <th>Chord length</th>\n",
       "      <th>Free-stream velocity</th>\n",
       "      <th>Suction side</th>\n",
       "      <th>pressure level</th>\n",
       "    </tr>\n",
       "  </thead>\n",
       "  <tbody>\n",
       "    <tr>\n",
       "      <th>0</th>\n",
       "      <td>800</td>\n",
       "      <td>0.0</td>\n",
       "      <td>0.3048</td>\n",
       "      <td>71.3</td>\n",
       "      <td>0.002663</td>\n",
       "      <td>126.201</td>\n",
       "    </tr>\n",
       "    <tr>\n",
       "      <th>1</th>\n",
       "      <td>1000</td>\n",
       "      <td>0.0</td>\n",
       "      <td>0.3048</td>\n",
       "      <td>71.3</td>\n",
       "      <td>0.002663</td>\n",
       "      <td>125.201</td>\n",
       "    </tr>\n",
       "    <tr>\n",
       "      <th>2</th>\n",
       "      <td>1250</td>\n",
       "      <td>0.0</td>\n",
       "      <td>0.3048</td>\n",
       "      <td>71.3</td>\n",
       "      <td>0.002663</td>\n",
       "      <td>125.951</td>\n",
       "    </tr>\n",
       "    <tr>\n",
       "      <th>3</th>\n",
       "      <td>1600</td>\n",
       "      <td>0.0</td>\n",
       "      <td>0.3048</td>\n",
       "      <td>71.3</td>\n",
       "      <td>0.002663</td>\n",
       "      <td>127.591</td>\n",
       "    </tr>\n",
       "    <tr>\n",
       "      <th>4</th>\n",
       "      <td>2000</td>\n",
       "      <td>0.0</td>\n",
       "      <td>0.3048</td>\n",
       "      <td>71.3</td>\n",
       "      <td>0.002663</td>\n",
       "      <td>127.461</td>\n",
       "    </tr>\n",
       "  </tbody>\n",
       "</table>\n",
       "</div>"
      ],
      "text/plain": [
       "   Frequency  Angle of attack  Chord length  Free-stream velocity  \\\n",
       "0        800              0.0        0.3048                  71.3   \n",
       "1       1000              0.0        0.3048                  71.3   \n",
       "2       1250              0.0        0.3048                  71.3   \n",
       "3       1600              0.0        0.3048                  71.3   \n",
       "4       2000              0.0        0.3048                  71.3   \n",
       "\n",
       "   Suction side  pressure level  \n",
       "0      0.002663         126.201  \n",
       "1      0.002663         125.201  \n",
       "2      0.002663         125.951  \n",
       "3      0.002663         127.591  \n",
       "4      0.002663         127.461  "
      ]
     },
     "execution_count": 12,
     "metadata": {},
     "output_type": "execute_result"
    }
   ],
   "source": [
    "df.head()"
   ]
  },
  {
   "cell_type": "code",
   "execution_count": 13,
   "metadata": {},
   "outputs": [
    {
     "data": {
      "text/plain": [
       "Frequency               0\n",
       "Angle of attack         0\n",
       "Chord length            0\n",
       "Free-stream velocity    0\n",
       "Suction side            0\n",
       "pressure level          0\n",
       "dtype: int64"
      ]
     },
     "execution_count": 13,
     "metadata": {},
     "output_type": "execute_result"
    }
   ],
   "source": [
    "# To check whether missing values or not in dataset\n",
    "df.isnull().sum()"
   ]
  },
  {
   "cell_type": "code",
   "execution_count": 14,
   "metadata": {},
   "outputs": [],
   "source": [
    "# Divide dataset into Independent and Dependent features\n",
    "x=df.iloc[:,:-1] #Independent features\n",
    "y=df.iloc[:,-1]  #Dependent features"
   ]
  },
  {
   "cell_type": "code",
   "execution_count": 15,
   "metadata": {},
   "outputs": [],
   "source": [
    "#train test split\n",
    "from sklearn.model_selection import  train_test_split\n",
    "x_train,x_test,y_train,y_test=train_test_split(x,y,test_size=.20)"
   ]
  },
  {
   "cell_type": "code",
   "execution_count": 16,
   "metadata": {},
   "outputs": [
    {
     "data": {
      "text/plain": [
       "<seaborn.axisgrid.PairGrid at 0x1affe5a8ba8>"
      ]
     },
     "execution_count": 16,
     "metadata": {},
     "output_type": "execute_result"
    },
    {
     "data": {
      "image/png": "[encoded data removed]",
      "text/plain": [
       "<Figure size 900x900 with 30 Axes>"
      ]
     },
     "metadata": {
      "needs_background": "light"
     },
     "output_type": "display_data"
    }
   ],
   "source": [
    "sns.pairplot(x_train)"
   ]
  },
  {
   "cell_type": "code",
   "execution_count": 17,
   "metadata": {},
   "outputs": [
    {
     "data": {
      "text/html": [
       "<div>\n",
       "<style scoped>\n",
       "    .dataframe tbody tr th:only-of-type {\n",
       "        vertical-align: middle;\n",
       "    }\n",
       "\n",
       "    .dataframe tbody tr th {\n",
       "        vertical-align: top;\n",
       "    }\n",
       "\n",
       "    .dataframe thead th {\n",
       "        text-align: right;\n",
       "    }\n",
       "</style>\n",
       "<table border=\"1\" class=\"dataframe\">\n",
       "  <thead>\n",
       "    <tr style=\"text-align: right;\">\n",
       "      <th></th>\n",
       "      <th>Frequency</th>\n",
       "      <th>Angle of attack</th>\n",
       "      <th>Chord length</th>\n",
       "      <th>Free-stream velocity</th>\n",
       "      <th>Suction side</th>\n",
       "    </tr>\n",
       "  </thead>\n",
       "  <tbody>\n",
       "    <tr>\n",
       "      <th>Frequency</th>\n",
       "      <td>1.000000</td>\n",
       "      <td>-0.272767</td>\n",
       "      <td>0.002011</td>\n",
       "      <td>0.149468</td>\n",
       "      <td>-0.224227</td>\n",
       "    </tr>\n",
       "    <tr>\n",
       "      <th>Angle of attack</th>\n",
       "      <td>-0.272767</td>\n",
       "      <td>1.000000</td>\n",
       "      <td>-0.502797</td>\n",
       "      <td>0.047723</td>\n",
       "      <td>0.753174</td>\n",
       "    </tr>\n",
       "    <tr>\n",
       "      <th>Chord length</th>\n",
       "      <td>0.002011</td>\n",
       "      <td>-0.502797</td>\n",
       "      <td>1.000000</td>\n",
       "      <td>0.001670</td>\n",
       "      <td>-0.220844</td>\n",
       "    </tr>\n",
       "    <tr>\n",
       "      <th>Free-stream velocity</th>\n",
       "      <td>0.149468</td>\n",
       "      <td>0.047723</td>\n",
       "      <td>0.001670</td>\n",
       "      <td>1.000000</td>\n",
       "      <td>-0.025663</td>\n",
       "    </tr>\n",
       "    <tr>\n",
       "      <th>Suction side</th>\n",
       "      <td>-0.224227</td>\n",
       "      <td>0.753174</td>\n",
       "      <td>-0.220844</td>\n",
       "      <td>-0.025663</td>\n",
       "      <td>1.000000</td>\n",
       "    </tr>\n",
       "  </tbody>\n",
       "</table>\n",
       "</div>"
      ],
      "text/plain": [
       "                      Frequency  Angle of attack  Chord length  \\\n",
       "Frequency              1.000000        -0.272767      0.002011   \n",
       "Angle of attack       -0.272767         1.000000     -0.502797   \n",
       "Chord length           0.002011        -0.502797      1.000000   \n",
       "Free-stream velocity   0.149468         0.047723      0.001670   \n",
       "Suction side          -0.224227         0.753174     -0.220844   \n",
       "\n",
       "                      Free-stream velocity  Suction side  \n",
       "Frequency                         0.149468     -0.224227  \n",
       "Angle of attack                   0.047723      0.753174  \n",
       "Chord length                      0.001670     -0.220844  \n",
       "Free-stream velocity              1.000000     -0.025663  \n",
       "Suction side                     -0.025663      1.000000  "
      ]
     },
     "execution_count": 17,
     "metadata": {},
     "output_type": "execute_result"
    }
   ],
   "source": [
    "x_train.corr()"
   ]
  },
  {
   "cell_type": "code",
   "execution_count": 18,
   "metadata": {},
   "outputs": [],
   "source": [
    "# Relation b/w Frequency and output feature(pressure level)"
   ]
  },
  {
   "cell_type": "code",
   "execution_count": 19,
   "metadata": {},
   "outputs": [
    {
     "name": "stderr",
     "output_type": "stream",
     "text": [
      "C:\\Users\\radha\\Anaconda3\\lib\\site-packages\\seaborn\\_decorators.py:43: FutureWarning: Pass the following variables as keyword args: x, y. From version 0.12, the only valid positional argument will be `data`, and passing other arguments without an explicit keyword will result in an error or misinterpretation.\n",
      "  FutureWarning\n"
     ]
    },
    {
     "data": {
      "text/plain": [
       "<AxesSubplot:xlabel='Frequency', ylabel='pressure level'>"
      ]
     },
     "execution_count": 19,
     "metadata": {},
     "output_type": "execute_result"
    },
    {
     "data": {
      "image/png": "[encoded data removed]",
      "text/plain": [
       "<Figure size 432x288 with 1 Axes>"
      ]
     },
     "metadata": {
      "needs_background": "light"
     },
     "output_type": "display_data"
    }
   ],
   "source": [
    "sns.scatterplot(x_train['Frequency'],y)"
   ]
  },
  {
   "cell_type": "code",
   "execution_count": 20,
   "metadata": {},
   "outputs": [
    {
     "data": {
      "text/plain": [
       "1456"
      ]
     },
     "execution_count": 20,
     "metadata": {},
     "output_type": "execute_result"
    }
   ],
   "source": [
    "len(df['pressure level'].unique())"
   ]
  },
  {
   "cell_type": "markdown",
   "metadata": {},
   "source": [
    "#### Observation -\n",
    "This is a Regression Problem Statement because o/p => continuos =>1456 category\n",
    "if o/p have 20-30 category then it comes under Regresion Problem Statement"
   ]
  },
  {
   "cell_type": "code",
   "execution_count": 21,
   "metadata": {},
   "outputs": [
    {
     "data": {
      "text/plain": [
       "{'whiskers': [<matplotlib.lines.Line2D at 0x1af810514a8>,\n",
       "  <matplotlib.lines.Line2D at 0x1af810514e0>],\n",
       " 'caps': [<matplotlib.lines.Line2D at 0x1af810517f0>,\n",
       "  <matplotlib.lines.Line2D at 0x1af81051ac8>],\n",
       " 'boxes': [<matplotlib.lines.Line2D at 0x1af81051208>],\n",
       " 'medians': [<matplotlib.lines.Line2D at 0x1af81051dd8>],\n",
       " 'fliers': [<matplotlib.lines.Line2D at 0x1af8105b3c8>],\n",
       " 'means': []}"
      ]
     },
     "execution_count": 21,
     "metadata": {},
     "output_type": "execute_result"
    },
    {
     "data": {
      "image/png": "[encoded data removed]",
      "text/plain": [
       "<Figure size 432x288 with 1 Axes>"
      ]
     },
     "metadata": {
      "needs_background": "light"
     },
     "output_type": "display_data"
    }
   ],
   "source": [
    "plt.boxplot(df['pressure level'])"
   ]
  },
  {
   "cell_type": "markdown",
   "metadata": {},
   "source": [
    "# Creating Model By - "
   ]
  },
  {
   "cell_type": "markdown",
   "metadata": {},
   "source": [
    "## Applying Different-2 Algorithm on Dataset"
   ]
  },
  {
   "cell_type": "code",
   "execution_count": 22,
   "metadata": {},
   "outputs": [],
   "source": [
    "#BASIC IMPORTS\n",
    "from sklearn.model_selection import train_test_split,cross_val_score,GridSearchCV\n",
    "from sklearn.preprocessing import StandardScaler\n",
    "scaler=StandardScaler()\n",
    "from sklearn.metrics import r2_score\n",
    "Parameters={'alpha':[1e-15,1e-3,1e-2,1,5,10,20,30,35,40,45,50,55,100]}"
   ]
  },
  {
   "cell_type": "markdown",
   "metadata": {},
   "source": [
    "### Linear Regression"
   ]
  },
  {
   "cell_type": "code",
   "execution_count": 23,
   "metadata": {},
   "outputs": [
    {
     "data": {
      "text/plain": [
       "-23.03787874548957"
      ]
     },
     "execution_count": 23,
     "metadata": {},
     "output_type": "execute_result"
    }
   ],
   "source": [
    "\n",
    "from sklearn.linear_model import LinearRegression\n",
    "#Feature Scaling\n",
    "scaled_feature=scaler.fit_transform(df.drop('pressure level',axis=1))\n",
    "# Train-Test-Split\n",
    "x_train,x_test,y_train,y_test=train_test_split(scaled_feature,df['pressure level'],test_size=0.30)\n",
    "scaler.fit_transform(x_train)\n",
    "scaler.transform(x_test) \n",
    "linear_regression=LinearRegression()\n",
    "linear_regression.fit(x_train,y_train)\n",
    "mse=cross_val_score(linear_regression,x_train,y_train,scoring='neg_mean_squared_error',cv=5)\n",
    "mse\n",
    "np.mean(mse)"
   ]
  },
  {
   "cell_type": "code",
   "execution_count": 24,
   "metadata": {},
   "outputs": [
    {
     "data": {
      "text/plain": [
       "0.4772622551689528"
      ]
     },
     "execution_count": 24,
     "metadata": {},
     "output_type": "execute_result"
    }
   ],
   "source": [
    "#Predicting Test data\n",
    "prediction_linear=linear_regression.predict(x_test)\n",
    "# Accuracy\n",
    "r2_score(y_test,prediction_linear)"
   ]
  },
  {
   "cell_type": "markdown",
   "metadata": {},
   "source": [
    "### Ridge Regression"
   ]
  },
  {
   "cell_type": "code",
   "execution_count": 25,
   "metadata": {},
   "outputs": [
    {
     "name": "stdout",
     "output_type": "stream",
     "text": [
      "{'alpha': 5}\n",
      "-22.58869475723326\n"
     ]
    }
   ],
   "source": [
    "\n",
    "from sklearn.linear_model import Ridge\n",
    "ridge=Ridge() #object\n",
    "\n",
    "#Feature Scaling\n",
    "scaled_feature=scaler.fit_transform(df.drop('pressure level',axis=1))\n",
    "# Train-Test-Split\n",
    "x_train,x_test,y_train,y_test=train_test_split(scaled_feature,df['pressure level'],test_size=0.30)\n",
    "scaler.fit_transform(x_train)\n",
    "scaler.transform(x_test)\n",
    "ridge_regressor=GridSearchCV(ridge,Parameters,scoring='neg_mean_squared_error',cv=5)\n",
    "ridge_regressor.fit(x_train,y_train)\n",
    "print(ridge_regressor.best_params_)\n",
    "print(ridge_regressor.best_score_)"
   ]
  },
  {
   "cell_type": "code",
   "execution_count": 26,
   "metadata": {},
   "outputs": [
    {
     "data": {
      "text/plain": [
       "0.442647176427742"
      ]
     },
     "execution_count": 26,
     "metadata": {},
     "output_type": "execute_result"
    }
   ],
   "source": [
    "#Predicting Test data\n",
    "prediction_ridge=ridge_regressor.predict(x_test)\n",
    "# Accuracy\n",
    "r2_score(y_test,prediction_ridge)"
   ]
  },
  {
   "cell_type": "markdown",
   "metadata": {},
   "source": [
    "### Lasso Regression"
   ]
  },
  {
   "cell_type": "code",
   "execution_count": 27,
   "metadata": {},
   "outputs": [
    {
     "name": "stderr",
     "output_type": "stream",
     "text": [
      "C:\\Users\\radha\\Anaconda3\\lib\\site-packages\\sklearn\\linear_model\\_coordinate_descent.py:648: ConvergenceWarning: Objective did not converge. You might want to increase the number of iterations, check the scale of the features or consider increasing regularisation. Duality gap: 3.071e+03, tolerance: 3.940e+00\n",
      "  coef_, l1_reg, l2_reg, X, y, max_iter, tol, rng, random, positive\n",
      "C:\\Users\\radha\\Anaconda3\\lib\\site-packages\\sklearn\\linear_model\\_coordinate_descent.py:648: ConvergenceWarning: Objective did not converge. You might want to increase the number of iterations, check the scale of the features or consider increasing regularisation. Duality gap: 1.287e+03, tolerance: 3.916e+00\n",
      "  coef_, l1_reg, l2_reg, X, y, max_iter, tol, rng, random, positive\n",
      "C:\\Users\\radha\\Anaconda3\\lib\\site-packages\\sklearn\\linear_model\\_coordinate_descent.py:648: ConvergenceWarning: Objective did not converge. You might want to increase the number of iterations, check the scale of the features or consider increasing regularisation. Duality gap: 1.516e+03, tolerance: 3.758e+00\n",
      "  coef_, l1_reg, l2_reg, X, y, max_iter, tol, rng, random, positive\n",
      "C:\\Users\\radha\\Anaconda3\\lib\\site-packages\\sklearn\\linear_model\\_coordinate_descent.py:648: ConvergenceWarning: Objective did not converge. You might want to increase the number of iterations, check the scale of the features or consider increasing regularisation. Duality gap: 9.107e+02, tolerance: 3.957e+00\n",
      "  coef_, l1_reg, l2_reg, X, y, max_iter, tol, rng, random, positive\n"
     ]
    },
    {
     "name": "stdout",
     "output_type": "stream",
     "text": [
      "{'alpha': 1e-15}\n",
      "-22.986964607217203\n"
     ]
    },
    {
     "name": "stderr",
     "output_type": "stream",
     "text": [
      "C:\\Users\\radha\\Anaconda3\\lib\\site-packages\\sklearn\\linear_model\\_coordinate_descent.py:648: ConvergenceWarning: Objective did not converge. You might want to increase the number of iterations, check the scale of the features or consider increasing regularisation. Duality gap: 8.676e+02, tolerance: 4.843e+00\n",
      "  coef_, l1_reg, l2_reg, X, y, max_iter, tol, rng, random, positive\n"
     ]
    },
    {
     "data": {
      "text/plain": [
       "0.5213387526421838"
      ]
     },
     "execution_count": 27,
     "metadata": {},
     "output_type": "execute_result"
    }
   ],
   "source": [
    "\n",
    "from sklearn.linear_model import Lasso\n",
    "lasso=Lasso() #object\n",
    "# Feature Scaling\n",
    "scaled_feature=scaler.fit_transform(df.drop('pressure level',axis=1))\n",
    "# Train-Test-Split\n",
    "x_train,x_test,y_train,y_test=train_test_split(scaled_feature,df['pressure level'],test_size=0.30)\n",
    "scaler.fit_transform(x_train)\n",
    "scaler.transform(x_test)\n",
    "lasso_regressor=GridSearchCV(lasso,Parameters,scoring='neg_mean_squared_error',cv=5)\n",
    "lasso_regressor.fit(x_train,y_train)\n",
    "print(lasso_regressor.best_params_)\n",
    "print(lasso_regressor.best_score_)\n",
    "\n",
    "#Predicting Test data\n",
    "prediction_lasso=lasso_regressor.predict(x_test)\n",
    "# Accuracy\n",
    "r2_score(y_test,prediction_lasso)"
   ]
  },
  {
   "cell_type": "markdown",
   "metadata": {},
   "source": [
    "### Elasticnet "
   ]
  },
  {
   "cell_type": "code",
   "execution_count": 28,
   "metadata": {},
   "outputs": [
    {
     "name": "stderr",
     "output_type": "stream",
     "text": [
      "C:\\Users\\radha\\Anaconda3\\lib\\site-packages\\sklearn\\linear_model\\_coordinate_descent.py:648: ConvergenceWarning: Objective did not converge. You might want to increase the number of iterations, check the scale of the features or consider increasing regularisation. Duality gap: 3.671e+03, tolerance: 4.160e+00\n",
      "  coef_, l1_reg, l2_reg, X, y, max_iter, tol, rng, random, positive\n",
      "C:\\Users\\radha\\Anaconda3\\lib\\site-packages\\sklearn\\linear_model\\_coordinate_descent.py:648: ConvergenceWarning: Objective did not converge. You might want to increase the number of iterations, check the scale of the features or consider increasing regularisation. Duality gap: 3.712e+03, tolerance: 4.051e+00\n",
      "  coef_, l1_reg, l2_reg, X, y, max_iter, tol, rng, random, positive\n",
      "C:\\Users\\radha\\Anaconda3\\lib\\site-packages\\sklearn\\linear_model\\_coordinate_descent.py:648: ConvergenceWarning: Objective did not converge. You might want to increase the number of iterations, check the scale of the features or consider increasing regularisation. Duality gap: 2.755e+03, tolerance: 4.048e+00\n",
      "  coef_, l1_reg, l2_reg, X, y, max_iter, tol, rng, random, positive\n"
     ]
    },
    {
     "name": "stdout",
     "output_type": "stream",
     "text": [
      "{'alpha': 0.01}\n",
      "-22.769298651449127\n"
     ]
    },
    {
     "data": {
      "text/plain": [
       "0.4715288198971548"
      ]
     },
     "execution_count": 28,
     "metadata": {},
     "output_type": "execute_result"
    }
   ],
   "source": [
    "\n",
    "from sklearn.linear_model import ElasticNet\n",
    "elasticnet=ElasticNet()\n",
    "# Feature Scaling\n",
    "scaled_feature=scaler.fit_transform(df.drop('pressure level',axis=1))\n",
    "# Train-Test-Split\n",
    "x_train,x_test,y_train,y_test=train_test_split(scaled_feature,df['pressure level'],test_size=0.30)\n",
    "scaler.fit_transform(x_train)\n",
    "scaler.transform(x_test)\n",
    "elasticnet_regressor=GridSearchCV(elasticnet,Parameters,scoring='neg_mean_squared_error',cv=5)\n",
    "elasticnet_regressor.fit(x_train,y_train)\n",
    "print(elasticnet_regressor.best_params_)\n",
    "print(elasticnet_regressor.best_score_)\n",
    "\n",
    "#Predicting Test data\n",
    "prediction_elasticnet=elasticnet_regressor.predict(x_test)\n",
    "# Accuracy\n",
    "r2_score(y_test,prediction_elasticnet)"
   ]
  },
  {
   "cell_type": "markdown",
   "metadata": {},
   "source": [
    "### Decision Tree Regressor"
   ]
  },
  {
   "cell_type": "code",
   "execution_count": 29,
   "metadata": {},
   "outputs": [
    {
     "data": {
      "text/plain": [
       "0.8267612984684697"
      ]
     },
     "execution_count": 29,
     "metadata": {},
     "output_type": "execute_result"
    }
   ],
   "source": [
    "\n",
    "from sklearn.tree import DecisionTreeRegressor\n",
    "from sklearn import tree\n",
    "D_regressor=DecisionTreeRegressor()\n",
    "D_regressor.fit(x_train,y_train)\n",
    "MSE=cross_val_score(D_regressor,x_train,y_train,scoring='neg_mean_squared_error',cv=5)\n",
    "\n",
    "#Predicting Test data\n",
    "prediction_DT=D_regressor.predict(x_test)\n",
    "# Accuracy\n",
    "r2_score(y_test,prediction_DT)"
   ]
  },
  {
   "cell_type": "markdown",
   "metadata": {},
   "source": [
    "### KNN - Regressor"
   ]
  },
  {
   "cell_type": "code",
   "execution_count": 30,
   "metadata": {},
   "outputs": [
    {
     "data": {
      "text/plain": [
       "0.8549376021651613"
      ]
     },
     "execution_count": 30,
     "metadata": {},
     "output_type": "execute_result"
    }
   ],
   "source": [
    "from sklearn.neighbors import KNeighborsRegressor\n",
    "knn=KNeighborsRegressor(n_neighbors=2)\n",
    "\n",
    "# Feature Scaling\n",
    "scaled_feature=scaler.fit_transform(df.drop('pressure level',axis=1))\n",
    "\n",
    "#Train -Test -Split\n",
    "x_train,x_test,y_train,y_test=train_test_split(scaled_feature,df['pressure level'],test_size=0.30)\n",
    "scaler.fit_transform(x_train)\n",
    "scaler.transform(x_test) \n",
    "knn.fit(x_train,y_train)\n",
    "\n",
    "#Predicting Test data\n",
    "pred=knn.predict(x_test)\n",
    "\n",
    "# Accuracy\n",
    "r2_score(y_test,pred)"
   ]
  },
  {
   "cell_type": "markdown",
   "metadata": {},
   "source": [
    "### Random Forest Regressor"
   ]
  },
  {
   "cell_type": "code",
   "execution_count": 31,
   "metadata": {},
   "outputs": [
    {
     "data": {
      "text/plain": [
       "0.9243046770576391"
      ]
     },
     "execution_count": 31,
     "metadata": {},
     "output_type": "execute_result"
    }
   ],
   "source": [
    "\n",
    "from sklearn.ensemble import RandomForestRegressor\n",
    "rf_regressor=RandomForestRegressor() #object\n",
    "rf_regressor.fit(x_train,y_train)\n",
    "\n",
    "#Predicting Test data\n",
    "prediction_rf=rf_regressor.predict(x_test)\n",
    "\n",
    "# Accuracy\n",
    "r2_score(y_test,prediction_rf)\n"
   ]
  },
  {
   "cell_type": "markdown",
   "metadata": {},
   "source": [
    "### SVM-SVR"
   ]
  },
  {
   "cell_type": "code",
   "execution_count": 32,
   "metadata": {},
   "outputs": [
    {
     "data": {
      "text/plain": [
       "0.5282166723885652"
      ]
     },
     "execution_count": 32,
     "metadata": {},
     "output_type": "execute_result"
    }
   ],
   "source": [
    "\n",
    "from sklearn.svm import SVR\n",
    "#Feature Scaling\n",
    "\n",
    "scaled_feature=scaler.fit_transform(df.drop('pressure level',axis=1))\n",
    "\n",
    "#train - test - split\n",
    "\n",
    "x_train,x_test,y_train,y_test=train_test_split(scaled_feature,df['pressure level'],test_size=0.30)\n",
    "scaler.fit_transform(x_train)\n",
    "scaler.transform(x_test) \n",
    "\n",
    "regressor=SVR(kernel=\"linear\")\n",
    "regressor.fit(x_train,y_train)\n",
    "#Predicting Test data\n",
    "svr_prediction=regressor.predict(x_test)\n",
    "# Accuracy\n",
    "r2_score(y_test,svr_prediction)"
   ]
  },
  {
   "cell_type": "markdown",
   "metadata": {},
   "source": [
    "# Converting Model into A File"
   ]
  },
  {
   "cell_type": "code",
   "execution_count": 33,
   "metadata": {},
   "outputs": [],
   "source": [
    "import pickle"
   ]
  },
  {
   "cell_type": "code",
   "execution_count": 34,
   "metadata": {},
   "outputs": [],
   "source": [
    "pickle.dump(rf_regressor,open('Airfoil_Self_Noise.pkl','wb'))"
   ]
  },
  {
   "cell_type": "code",
   "execution_count": 35,
   "metadata": {},
   "outputs": [
    {
     "data": {
      "text/plain": [
       "array([[-0.12260118,  0.2734372 , -0.91699924, -1.23080896, -0.40561217],\n",
       "       [-0.71596486, -1.14640293,  0.16952016, -1.23080896, -0.68811254],\n",
       "       [-0.51923465, -1.14640293,  1.79929926, -1.23080896, -0.59541339],\n",
       "       ...,\n",
       "       [-0.59856135, -0.47028859,  0.98440971,  0.29800701, -0.52135661],\n",
       "       [-0.71596486, -0.33506572, -1.18862909, -0.72334483, -0.77837481],\n",
       "       [-0.81591649,  0.08750575,  0.98440971, -0.72334483,  0.09190876]])"
      ]
     },
     "execution_count": 35,
     "metadata": {},
     "output_type": "execute_result"
    }
   ],
   "source": [
    "pickled_model=pickle.load(open('Airfoil_Self_Noise.pkl','rb'))\n",
    "#Batch input\n",
    "#pickled_model.predict(x_test)\n",
    "x_test"
   ]
  },
  {
   "cell_type": "code",
   "execution_count": 36,
   "metadata": {},
   "outputs": [
    {
     "data": {
      "text/plain": [
       "array([[ 1.62258612, -0.89286005,  1.79929926,  1.31293526, -0.59125771],\n",
       "       [ 0.67066578, -1.14640293, -1.18862909,  1.31293526, -0.81692634],\n",
       "       [ 2.25719968, -0.43648287, -0.91699924, -0.72334483, -0.73125617],\n",
       "       ...,\n",
       "       [-0.71596486, -1.14640293,  0.98440971,  0.29800701, -0.67295112],\n",
       "       [ 1.08316459, -0.63931717,  1.79929926, -1.23080896, -0.44460696],\n",
       "       [-0.85240677,  0.93264869, -0.37373954, -1.23080896,  2.33805337]])"
      ]
     },
     "execution_count": 36,
     "metadata": {},
     "output_type": "execute_result"
    }
   ],
   "source": [
    "x_train\n"
   ]
  },
  {
   "cell_type": "code",
   "execution_count": 37,
   "metadata": {},
   "outputs": [],
   "source": [
    "# How do we work with single input"
   ]
  },
  {
   "cell_type": "code",
   "execution_count": 38,
   "metadata": {},
   "outputs": [],
   "source": [
    "dict_test={\n",
    "    \"Frequency\":800,\n",
    "    \"Angle of attack\":0.0,\n",
    "    \"Chord length\":0.3048,\n",
    "    \"Free-streem velocity\":71.3,\n",
    "    \"suction side\":0.002663\n",
    "}"
   ]
  },
  {
   "cell_type": "code",
   "execution_count": 39,
   "metadata": {},
   "outputs": [
    {
     "data": {
      "text/plain": [
       "{'Frequency': 800,\n",
       " 'Angle of attack': 0.0,\n",
       " 'Chord length': 0.3048,\n",
       " 'Free-streem velocity': 71.3,\n",
       " 'suction side': 0.002663}"
      ]
     },
     "execution_count": 39,
     "metadata": {},
     "output_type": "execute_result"
    }
   ],
   "source": [
    "dict_test"
   ]
  },
  {
   "cell_type": "code",
   "execution_count": 40,
   "metadata": {},
   "outputs": [
    {
     "data": {
      "text/plain": [
       "[[800, 0.0, 0.3048, 71.3, 0.002663]]"
      ]
     },
     "execution_count": 40,
     "metadata": {},
     "output_type": "execute_result"
    }
   ],
   "source": [
    "[list(dict_test.values())]"
   ]
  },
  {
   "cell_type": "code",
   "execution_count": 41,
   "metadata": {},
   "outputs": [
    {
     "data": {
      "text/plain": [
       "dict_keys(['Frequency', 'Angle of attack', 'Chord length', 'Free-streem velocity', 'suction side'])"
      ]
     },
     "execution_count": 41,
     "metadata": {},
     "output_type": "execute_result"
    }
   ],
   "source": [
    "dict_test.keys()"
   ]
  },
  {
   "cell_type": "code",
   "execution_count": 42,
   "metadata": {},
   "outputs": [
    {
     "data": {
      "text/plain": [
       "109.90755000000011"
      ]
     },
     "execution_count": 42,
     "metadata": {},
     "output_type": "execute_result"
    }
   ],
   "source": [
    "pickled_model.predict([list(dict_test.values())])[0]"
   ]
  },
  {
   "cell_type": "code",
   "execution_count": 43,
   "metadata": {},
   "outputs": [],
   "source": [
    "pickle.dump(knn,open('Airfoil_Self_Noise1.pkl','wb'))"
   ]
  },
  {
   "cell_type": "code",
   "execution_count": 44,
   "metadata": {},
   "outputs": [],
   "source": [
    "pickled_model1=pickle.load(open('Airfoil_Self_Noise1.pkl','rb'))\n",
    "#Batch input\n",
    "#pickled_model1.predict(x_test)"
   ]
  },
  {
   "cell_type": "code",
   "execution_count": 45,
   "metadata": {},
   "outputs": [
    {
     "data": {
      "text/plain": [
       "112.05599999999998"
      ]
     },
     "execution_count": 45,
     "metadata": {},
     "output_type": "execute_result"
    }
   ],
   "source": [
    "pickled_model1.predict([list(dict_test.values())])[0]"
   ]
  },
  {
   "cell_type": "code",
   "execution_count": 46,
   "metadata": {},
   "outputs": [
    {
     "data": {
      "text/plain": [
       "109.90755000000011"
      ]
     },
     "execution_count": 46,
     "metadata": {},
     "output_type": "execute_result"
    }
   ],
   "source": [
    "pickled_model.predict([list(dict_test.values())])[0]"
   ]
  },
  {
   "cell_type": "code",
   "execution_count": 47,
   "metadata": {},
   "outputs": [
    {
     "data": {
      "text/plain": [
       "-3033.019606225002"
      ]
     },
     "execution_count": 47,
     "metadata": {},
     "output_type": "execute_result"
    }
   ],
   "source": [
    "pickle.dump(linear_regression,open('Airfoil_Self_Noise2.pkl','wb'))\n",
    "pickled_model2=pickle.load(open('Airfoil_Self_Noise2.pkl','rb'))\n",
    "#Batch input\n",
    "#pickled_model2.predict(x_test)\n",
    "pickled_model2.predict([list(dict_test.values())])[0]"
   ]
  },
  {
   "cell_type": "code",
   "execution_count": 48,
   "metadata": {},
   "outputs": [
    {
     "data": {
      "text/plain": [
       "-3093.7958316106565"
      ]
     },
     "execution_count": 48,
     "metadata": {},
     "output_type": "execute_result"
    }
   ],
   "source": [
    "pickle.dump(ridge_regressor,open('Airfoil_Self_Noise3.pkl','wb'))\n",
    "pickled_model3=pickle.load(open('Airfoil_Self_Noise3.pkl','rb'))\n",
    "pickled_model3.predict([list(dict_test.values())])[0]\n",
    "#Batch input\n",
    "#pickled_model3.predict(x_test)"
   ]
  },
  {
   "cell_type": "code",
   "execution_count": 49,
   "metadata": {},
   "outputs": [
    {
     "data": {
      "text/plain": [
       "-2970.952427396747"
      ]
     },
     "execution_count": 49,
     "metadata": {},
     "output_type": "execute_result"
    }
   ],
   "source": [
    "pickle.dump(lasso_regressor,open('Airfoil_Self_Noise4.pkl','wb'))\n",
    "pickled_model4=pickle.load(open('Airfoil_Self_Noise4.pkl','rb'))\n",
    "#Batch input\n",
    "#pickled_model4.predict(x_test)\n",
    "pickled_model4.predict([list(dict_test.values())])[0]"
   ]
  },
  {
   "cell_type": "code",
   "execution_count": 50,
   "metadata": {},
   "outputs": [
    {
     "data": {
      "text/plain": [
       "-3451.6465128712475"
      ]
     },
     "execution_count": 50,
     "metadata": {},
     "output_type": "execute_result"
    }
   ],
   "source": [
    "pickle.dump(regressor,open('Airfoil_Self_Noise5.pkl','wb'))\n",
    "pickled_model5=pickle.load(open('Airfoil_Self_Noise5.pkl','rb'))\n",
    "#Batch input\n",
    "#pickled_model5.predict(x_test)\n",
    "pickled_model5.predict([list(dict_test.values())])[0]"
   ]
  },
  {
   "cell_type": "code",
   "execution_count": 51,
   "metadata": {},
   "outputs": [
    {
     "data": {
      "text/plain": [
       "109.63799999999999"
      ]
     },
     "execution_count": 51,
     "metadata": {},
     "output_type": "execute_result"
    }
   ],
   "source": [
    "pickle.dump(D_regressor,open('Airfoil_Self_Noise6.pkl','wb'))\n",
    "pickled_model6=pickle.load(open('Airfoil_Self_Noise6.pkl','rb'))\n",
    "#Batch input\n",
    "#pickled_model6.predict(x_test)\n",
    "pickled_model6.predict([list(dict_test.values())])[0]"
   ]
  },
  {
   "cell_type": "code",
   "execution_count": null,
   "metadata": {},
   "outputs": [],
   "source": [
    "7 3\n",
    "1 2 3 4 5 6 7"
   ]
  },
  {
   "cell_type": "code",
   "execution_count": 13,
   "metadata": {},
   "outputs": [
    {
     "name": "stdout",
     "output_type": "stream",
     "text": [
      "5 10\n",
      "7 7 7 7 7\n"
     ]
    },
    {
     "data": {
      "text/plain": [
       "2"
      ]
     },
     "execution_count": 13,
     "metadata": {},
     "output_type": "execute_result"
    }
   ],
   "source": [
    "def test():\n",
    "    total_ladoo=0\n",
    "    N, M = input().split()\n",
    "    Sum = list(map(int, input().split()))\n",
    "    for i in Sum:\n",
    "        total_ladoo=total_ladoo+i\n",
    "    return total_ladoo%3\n",
    "test()"
   ]
  },
  {
   "cell_type": "code",
   "execution_count": null,
   "metadata": {},
   "outputs": [],
   "source": []
  },
  {
   "cell_type": "code",
   "execution_count": null,
   "metadata": {},
   "outputs": [],
   "source": []
  },
  {
   "cell_type": "code",
   "execution_count": null,
   "metadata": {},
   "outputs": [],
   "source": []
  }
 ],
 "metadata": {
  "kernelspec": {
   "display_name": "Python 3",
   "language": "python",
   "name": "python3"
  },
  "language_info": {
   "codemirror_mode": {
    "name": "ipython",
    "version": 3
   },
   "file_extension": ".py",
   "mimetype": "text/x-python",
   "name": "python",
   "nbconvert_exporter": "python",
   "pygments_lexer": "ipython3",
   "version": "3.7.3"
  }
 },
 "nbformat": 4,
 "nbformat_minor": 2
}
